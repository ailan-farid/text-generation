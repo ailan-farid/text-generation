{
 "cells": [
  {
   "cell_type": "markdown",
   "metadata": {
    "colab_type": "text",
    "id": "HTbJqGFwbrjR"
   },
   "source": [
    "# Mounting google drive"
   ]
  },
  {
   "cell_type": "code",
   "execution_count": 2,
   "metadata": {
    "colab": {
     "base_uri": "https://localhost:8080/",
     "height": 121
    },
    "colab_type": "code",
    "id": "qjwnv_eEbhpz",
    "outputId": "124141c4-3d5f-44c2-ade5-8c8e115d7e3e",
    "scrolled": true
   },
   "outputs": [
    {
     "name": "stdout",
     "output_type": "stream",
     "text": [
      "Go to this URL in a browser: https://accounts.google.com/o/oauth2/auth?client_id=947318989803-6bn6qk8qdgf4n4g3pfee6491hc0brc4i.apps.googleusercontent.com&redirect_uri=urn%3aietf%3awg%3aoauth%3a2.0%3aoob&response_type=code&scope=email%20https%3a%2f%2fwww.googleapis.com%2fauth%2fdocs.test%20https%3a%2f%2fwww.googleapis.com%2fauth%2fdrive%20https%3a%2f%2fwww.googleapis.com%2fauth%2fdrive.photos.readonly%20https%3a%2f%2fwww.googleapis.com%2fauth%2fpeopleapi.readonly\n",
      "\n",
      "Enter your authorization code:\n",
      "··········\n",
      "Mounted at /content/drive\n"
     ]
    }
   ],
   "source": [
    "from google.colab import drive\n",
    "drive.mount('/content/drive')"
   ]
  },
  {
   "cell_type": "markdown",
   "metadata": {
    "colab_type": "text",
    "id": "CtzEwxVRcxUk"
   },
   "source": [
    "# Load modules"
   ]
  },
  {
   "cell_type": "code",
   "execution_count": 3,
   "metadata": {
    "colab": {
     "base_uri": "https://localhost:8080/",
     "height": 34
    },
    "colab_type": "code",
    "id": "TiUyYUWdcw9u",
    "outputId": "6b18250f-f289-482c-cdbb-e0143febf3c6"
   },
   "outputs": [
    {
     "name": "stdout",
     "output_type": "stream",
     "text": [
      "2.1.0-dev20191121\n"
     ]
    }
   ],
   "source": [
    "import numpy as np\n",
    "import pandas as pd\n",
    "import matplotlib.pyplot as plt\n",
    "\n",
    "import tensorflow as tf\n",
    "from tensorflow.keras.utils import plot_model, to_categorical\n",
    "from tensorflow.keras.preprocessing.text import Tokenizer\n",
    "from tensorflow.keras.models import Sequential\n",
    "from tensorflow.keras.layers import Dense\n",
    "from tensorflow.keras.layers import Dropout\n",
    "from tensorflow.keras.layers import LSTM, Bidirectional\n",
    "from tensorflow.keras.layers import Embedding\n",
    "from tensorflow.keras.callbacks import ModelCheckpoint\n",
    "from tensorflow.keras.callbacks import EarlyStopping\n",
    "from tensorflow.keras import backend\n",
    "print(tf.__version__)"
   ]
  },
  {
   "cell_type": "markdown",
   "metadata": {
    "colab_type": "text",
    "id": "DvLK5QhU0L34"
   },
   "source": [
    "# Dataset preparation"
   ]
  },
  {
   "cell_type": "markdown",
   "metadata": {
    "colab_type": "text",
    "id": "KTCMZpr7cAga"
   },
   "source": [
    "## Load data"
   ]
  },
  {
   "cell_type": "code",
   "execution_count": 0,
   "metadata": {
    "colab": {},
    "colab_type": "code",
    "id": "yu-mN1cF7XTB"
   },
   "outputs": [],
   "source": [
    "# open the file as read only\n",
    "with open('/content/drive/My Drive/Colab Notebooks/text-generation/text-generation-word/nips_clean.txt', 'r') as file:\n",
    "  corpus = file.read()"
   ]
  },
  {
   "cell_type": "code",
   "execution_count": 5,
   "metadata": {
    "colab": {
     "base_uri": "https://localhost:8080/",
     "height": 50
    },
    "colab_type": "code",
    "id": "Ah-YYMW77kWJ",
    "outputId": "4ce3eb25-04cb-4c7f-a175-241226f49377"
   },
   "outputs": [
    {
     "name": "stdout",
     "output_type": "stream",
     "text": [
      "Total number of words: 784009\n",
      "Total number of unique words:  15032\n"
     ]
    }
   ],
   "source": [
    "words = corpus.split()\n",
    "n_words = len(words)\n",
    "unique_words = sorted(list(set(words)))\n",
    "n_unique_words = len(unique_words)\n",
    "print(\"Total number of words:\", n_words)\n",
    "print(\"Total number of unique words: \", n_unique_words)"
   ]
  },
  {
   "cell_type": "markdown",
   "metadata": {
    "colab_type": "text",
    "id": "7sNXXnDEIGSV"
   },
   "source": [
    "## Parameters configuration"
   ]
  },
  {
   "cell_type": "code",
   "execution_count": 0,
   "metadata": {
    "colab": {},
    "colab_type": "code",
    "id": "rQVt7zdjjH_C"
   },
   "outputs": [],
   "source": [
    "# Parameters configuration\n",
    "SEQUENCE_LENGTH = 200\n",
    "MIN_WORD_FREQUENCY = 3 \n",
    "MAX_VOCAB_SIZE = n_unique_words\n",
    "EMBEDDING_DIM = 256\n",
    "BATCH_SIZE = 32\n",
    "DROPOUT_RATE = 0.2\n",
    "RNN_UNITS = 128\n",
    "EPOCHS = 50"
   ]
  },
  {
   "cell_type": "code",
   "execution_count": 7,
   "metadata": {
    "colab": {
     "base_uri": "https://localhost:8080/",
     "height": 67
    },
    "colab_type": "code",
    "id": "pgt5_4HX-YXR",
    "outputId": "7f71969c-a2b5-40be-d748-d575eb83df04"
   },
   "outputs": [
    {
     "name": "stdout",
     "output_type": "stream",
     "text": [
      "Removing words with frequency < 3\n",
      "Total number of rare words:  7066\n",
      "Total number of unique words after removing rare words: 7966\n"
     ]
    }
   ],
   "source": [
    "# Calculate word frequency\n",
    "word_count = {}\n",
    "for word in words:\n",
    "  word_count[word] = word_count.get(word, 0) + 1\n",
    "\n",
    "rare_words = set()\n",
    "for k, v in word_count.items():\n",
    "  if word_count[k] < MIN_WORD_FREQUENCY:\n",
    "    rare_words.add(k)\n",
    "\n",
    "print('Removing words with frequency <', MIN_WORD_FREQUENCY)\n",
    "print('Total number of rare words: ', len(rare_words))\n",
    "unique_words = sorted(set(words) - rare_words)\n",
    "n_unique_words = len(unique_words)\n",
    "print('Total number of unique words after removing rare words:', n_unique_words)"
   ]
  },
  {
   "cell_type": "code",
   "execution_count": 0,
   "metadata": {
    "colab": {},
    "colab_type": "code",
    "id": "KRAL69H7HTj5"
   },
   "outputs": [],
   "source": [
    "# Parameters configuration\n",
    "MAX_VOCAB_SIZE = n_unique_words"
   ]
  },
  {
   "cell_type": "markdown",
   "metadata": {
    "colab_type": "text",
    "id": "QyfcHrPpINcK"
   },
   "source": [
    "## Create sequences of words"
   ]
  },
  {
   "cell_type": "code",
   "execution_count": 9,
   "metadata": {
    "colab": {
     "base_uri": "https://localhost:8080/",
     "height": 50
    },
    "colab_type": "code",
    "id": "lII3wDDPjv9T",
    "outputId": "f5e7f9a2-c2d1-4937-986f-57a6cc51ba92"
   },
   "outputs": [
    {
     "name": "stdout",
     "output_type": "stream",
     "text": [
      "Total number of sequences without rare words: 143211\n",
      "Total number of sequences with rare words: 640598\n"
     ]
    }
   ],
   "source": [
    "# Create sequences of words and remove sequences containing rare words\n",
    "sequences_words = []\n",
    "n_ignored = 0\n",
    "ignored_sequences = []\n",
    "for i in range(0, n_words - SEQUENCE_LENGTH):\n",
    "\ts = ' '.join(words[i:i+SEQUENCE_LENGTH])\t\n",
    "\t# only add sequences containing no rare words\n",
    "\tif len(set(words[i:i+SEQUENCE_LENGTH]).intersection(rare_words)) == 0:\n",
    "\t\tsequences_words.append(s)\n",
    "\telse:\n",
    "\t\tn_ignored = n_ignored + 1\n",
    "\t\tignored_sequences.append(s)\n",
    "\t\n",
    "print('Total number of sequences without rare words: %d' % len(sequences_words))\n",
    "print('Total number of sequences with rare words: %d' % len(ignored_sequences))"
   ]
  },
  {
   "cell_type": "markdown",
   "metadata": {
    "colab_type": "text",
    "id": "Eb3-uI_ZIRbR"
   },
   "source": [
    "## Tokenization"
   ]
  },
  {
   "cell_type": "code",
   "execution_count": 10,
   "metadata": {
    "colab": {
     "base_uri": "https://localhost:8080/",
     "height": 50
    },
    "colab_type": "code",
    "id": "mfKBMQAY1a66",
    "outputId": "a90b3d1b-b972-474a-8f58-ee5f39a2325e"
   },
   "outputs": [
    {
     "name": "stdout",
     "output_type": "stream",
     "text": [
      "Number of unique tokens: 7204\n",
      "Total number of sequences: 143211\n"
     ]
    }
   ],
   "source": [
    "# Tokenization\n",
    "tokenizer = Tokenizer(filters='', lower=False, oov_token=\"<OOV>\")\n",
    "tokenizer.fit_on_texts(sequences_words)\n",
    "word_index = tokenizer.word_index\n",
    "\n",
    "# convert the sequences into integers\n",
    "sequences = tokenizer.texts_to_sequences(sequences_words)\n",
    "n_sequences = len(sequences)\n",
    "# vocabulary size\n",
    "vocab_size = len(word_index) + 1\n",
    "\n",
    "print(\"Number of unique tokens: %d\" % len(word_index))\n",
    "print('Total number of sequences: %d' % n_sequences)"
   ]
  },
  {
   "cell_type": "markdown",
   "metadata": {
    "colab_type": "text",
    "id": "KF-Gtu3TIVk-"
   },
   "source": [
    "## Create input and output"
   ]
  },
  {
   "cell_type": "code",
   "execution_count": 0,
   "metadata": {
    "colab": {},
    "colab_type": "code",
    "id": "X1pTRtLAmNDS"
   },
   "outputs": [],
   "source": [
    "# Create input and output \n",
    "sequences = np.array(sequences)\n",
    "X, y = sequences[:,:-1], sequences[:,-1]"
   ]
  },
  {
   "cell_type": "code",
   "execution_count": 0,
   "metadata": {
    "colab": {},
    "colab_type": "code",
    "id": "-Zf-c045H0ny"
   },
   "outputs": [],
   "source": [
    "# Data generator\n",
    "def generate_arrays(X_all, y_all, batch_size):\n",
    "    index = 0\n",
    "    while True:\n",
    "        x = np.zeros((batch_size, X.shape[1]), dtype=np.int32)\n",
    "        y = np.zeros((batch_size, vocab_size), dtype=np.bool)\n",
    "        for i in range(batch_size):\n",
    "            x[i] = X_all[index]\n",
    "            y[i] = to_categorical(y_all[index], num_classes = vocab_size)\n",
    "\n",
    "            index = index + 1\n",
    "            if index == len(X_all):\n",
    "               index = 0\n",
    "               \n",
    "        yield (x, y)"
   ]
  },
  {
   "cell_type": "code",
   "execution_count": 0,
   "metadata": {
    "colab": {},
    "colab_type": "code",
    "id": "5w9Ggx98E5G5"
   },
   "outputs": [],
   "source": [
    "# Create training set and test set\n",
    "def shuffle_train_test_split(X_all, y_all, shuffle=True, test_percent=20, random_state=10):\n",
    "    \n",
    "    if shuffle:\n",
    "      X_all_shuffled = []\n",
    "      y_all_shuffled = [] \n",
    "      for i in np.random.RandomState(seed=random_state).permutation(len(X_all)):\n",
    "          X_all_shuffled.append(X_all[i])\n",
    "          y_all_shuffled.append(y_all[i])\n",
    "    else:\n",
    "      X_all_shuffled = X_all\n",
    "      y_all_shuffled = y_all\n",
    "\n",
    "    split_index = int(len(X_all) * (1.-(test_percent/100.)))\n",
    "    X_train, X_test = X_all_shuffled[:split_index], X_all_shuffled[split_index:]\n",
    "    y_train, y_test = y_all_shuffled[:split_index], y_all_shuffled[split_index:]\n",
    "\n",
    "    X_train = np.array(X_train)    \n",
    "    y_train = np.array(y_train)\n",
    "    X_test = np.array(X_test)\n",
    "    y_test = np.array(y_test)\n",
    "    \n",
    "    return X_train, y_train, X_test, y_test"
   ]
  },
  {
   "cell_type": "code",
   "execution_count": 0,
   "metadata": {
    "colab": {},
    "colab_type": "code",
    "id": "X0tlc5noHHCz"
   },
   "outputs": [],
   "source": [
    "X_train, y_train, X_test, y_test = shuffle_train_test_split(X, y, test_percent=0)"
   ]
  },
  {
   "cell_type": "markdown",
   "metadata": {
    "colab_type": "text",
    "id": "CU9G9d3f7PcA"
   },
   "source": [
    "# Modeling"
   ]
  },
  {
   "cell_type": "markdown",
   "metadata": {
    "colab_type": "text",
    "id": "fwJUxLue7XaN"
   },
   "source": [
    "## Building the model"
   ]
  },
  {
   "cell_type": "code",
   "execution_count": 15,
   "metadata": {
    "colab": {
     "base_uri": "https://localhost:8080/",
     "height": 302
    },
    "colab_type": "code",
    "id": "_3u8x8lX5jg3",
    "outputId": "b23c99b6-997b-42fa-c249-3a79881c9c50"
   },
   "outputs": [
    {
     "name": "stdout",
     "output_type": "stream",
     "text": [
      "Model: \"sequential\"\n",
      "_________________________________________________________________\n",
      "Layer (type)                 Output Shape              Param #   \n",
      "=================================================================\n",
      "embedding (Embedding)        (None, 199, 256)          1844480   \n",
      "_________________________________________________________________\n",
      "bidirectional (Bidirectional (None, 256)               394240    \n",
      "_________________________________________________________________\n",
      "dropout (Dropout)            (None, 256)               0         \n",
      "_________________________________________________________________\n",
      "dense (Dense)                (None, 7205)              1851685   \n",
      "=================================================================\n",
      "Total params: 4,090,405\n",
      "Trainable params: 4,090,405\n",
      "Non-trainable params: 0\n",
      "_________________________________________________________________\n",
      "None\n"
     ]
    }
   ],
   "source": [
    "model = Sequential()\n",
    "model.add(Embedding(input_dim=vocab_size, output_dim=EMBEDDING_DIM, input_length=SEQUENCE_LENGTH-1))\n",
    "model.add(Bidirectional(LSTM(units=RNN_UNITS)))\n",
    "model.add(Dropout(DROPOUT_RATE))\n",
    "model.add(Dense(units=vocab_size, activation='softmax'))\n",
    "print(model.summary())"
   ]
  },
  {
   "cell_type": "markdown",
   "metadata": {
    "colab_type": "text",
    "id": "yXKGPrQ8-gL5"
   },
   "source": [
    "## Compile the model"
   ]
  },
  {
   "cell_type": "code",
   "execution_count": 0,
   "metadata": {
    "colab": {},
    "colab_type": "code",
    "id": "NCEmLVPp-hqt"
   },
   "outputs": [],
   "source": [
    "model.compile(loss='categorical_crossentropy', optimizer='adam', metrics=['accuracy'])"
   ]
  },
  {
   "cell_type": "markdown",
   "metadata": {
    "colab_type": "text",
    "id": "YaFcd95r-7tD"
   },
   "source": [
    "## Define the checkpoint"
   ]
  },
  {
   "cell_type": "code",
   "execution_count": 0,
   "metadata": {
    "colab": {},
    "colab_type": "code",
    "id": "-gnJCiEb-9C_"
   },
   "outputs": [],
   "source": [
    "early_stopping = EarlyStopping(monitor='loss', patience=5)\n",
    "callbacks_list = [early_stopping]"
   ]
  },
  {
   "cell_type": "markdown",
   "metadata": {
    "colab_type": "text",
    "id": "UW5XlkgjAuLp"
   },
   "source": [
    "## Train the model"
   ]
  },
  {
   "cell_type": "code",
   "execution_count": 18,
   "metadata": {
    "colab": {
     "base_uri": "https://localhost:8080/",
     "height": 1000
    },
    "colab_type": "code",
    "id": "QVryiAfHAvR8",
    "outputId": "5e17542e-86ae-4247-f472-19f0b336a872"
   },
   "outputs": [
    {
     "name": "stdout",
     "output_type": "stream",
     "text": [
      "WARNING:tensorflow:sample_weight modes were coerced from\n",
      "  ...\n",
      "    to  \n",
      "  ['...']\n",
      "Train for 4476 steps\n",
      "Epoch 1/50\n",
      "4476/4476 [==============================] - 178s 40ms/step - loss: 5.7886 - accuracy: 0.1478\n",
      "Epoch 2/50\n",
      "4476/4476 [==============================] - 177s 39ms/step - loss: 5.0200 - accuracy: 0.2075\n",
      "Epoch 3/50\n",
      "4476/4476 [==============================] - 177s 40ms/step - loss: 4.5974 - accuracy: 0.2345\n",
      "Epoch 4/50\n",
      "4476/4476 [==============================] - 178s 40ms/step - loss: 4.2549 - accuracy: 0.2575\n",
      "Epoch 5/50\n",
      "4476/4476 [==============================] - 174s 39ms/step - loss: 3.9021 - accuracy: 0.2827\n",
      "Epoch 6/50\n",
      "4476/4476 [==============================] - 177s 40ms/step - loss: 3.6072 - accuracy: 0.3112\n",
      "Epoch 7/50\n",
      "4476/4476 [==============================] - 178s 40ms/step - loss: 3.2914 - accuracy: 0.3456\n",
      "Epoch 8/50\n",
      "4476/4476 [==============================] - 177s 40ms/step - loss: 3.0484 - accuracy: 0.3780\n",
      "Epoch 9/50\n",
      "4476/4476 [==============================] - 177s 40ms/step - loss: 2.7921 - accuracy: 0.4123\n",
      "Epoch 10/50\n",
      "4476/4476 [==============================] - 177s 40ms/step - loss: 2.5753 - accuracy: 0.4467\n",
      "Epoch 11/50\n",
      "4476/4476 [==============================] - 177s 40ms/step - loss: 2.3858 - accuracy: 0.4771\n",
      "Epoch 12/50\n",
      "4476/4476 [==============================] - 177s 39ms/step - loss: 2.2301 - accuracy: 0.5013\n",
      "Epoch 13/50\n",
      "4476/4476 [==============================] - 177s 39ms/step - loss: 2.0983 - accuracy: 0.5229\n",
      "Epoch 14/50\n",
      "4476/4476 [==============================] - 176s 39ms/step - loss: 1.9881 - accuracy: 0.5412\n",
      "Epoch 15/50\n",
      "4476/4476 [==============================] - 176s 39ms/step - loss: 1.8995 - accuracy: 0.5568\n",
      "Epoch 16/50\n",
      "4476/4476 [==============================] - 177s 39ms/step - loss: 1.8273 - accuracy: 0.5687\n",
      "Epoch 17/50\n",
      "4476/4476 [==============================] - 177s 40ms/step - loss: 1.7534 - accuracy: 0.5829\n",
      "Epoch 18/50\n",
      "4476/4476 [==============================] - 176s 39ms/step - loss: 1.6770 - accuracy: 0.5958\n",
      "Epoch 19/50\n",
      "4476/4476 [==============================] - 175s 39ms/step - loss: 1.6388 - accuracy: 0.6016\n",
      "Epoch 20/50\n",
      "4476/4476 [==============================] - 175s 39ms/step - loss: 1.6415 - accuracy: 0.5984\n",
      "Epoch 21/50\n",
      "4476/4476 [==============================] - 175s 39ms/step - loss: 1.6057 - accuracy: 0.6067\n",
      "Epoch 22/50\n",
      "4476/4476 [==============================] - 175s 39ms/step - loss: 1.5799 - accuracy: 0.6096\n",
      "Epoch 23/50\n",
      "4476/4476 [==============================] - 176s 39ms/step - loss: 1.7871 - accuracy: 0.5662\n",
      "Epoch 24/50\n",
      "4476/4476 [==============================] - 176s 39ms/step - loss: 1.8275 - accuracy: 0.5591\n",
      "Epoch 25/50\n",
      "4476/4476 [==============================] - 177s 39ms/step - loss: 1.6277 - accuracy: 0.5986\n",
      "Epoch 26/50\n",
      "4476/4476 [==============================] - 176s 39ms/step - loss: 1.5256 - accuracy: 0.6194\n",
      "Epoch 27/50\n",
      "4476/4476 [==============================] - 176s 39ms/step - loss: 1.5077 - accuracy: 0.6208\n",
      "Epoch 28/50\n",
      "4476/4476 [==============================] - 176s 39ms/step - loss: 1.5359 - accuracy: 0.6129\n",
      "Epoch 29/50\n",
      "4476/4476 [==============================] - 176s 39ms/step - loss: 1.4758 - accuracy: 0.6264\n",
      "Epoch 30/50\n",
      "4476/4476 [==============================] - 176s 39ms/step - loss: 1.4052 - accuracy: 0.6409\n",
      "Epoch 31/50\n",
      "4476/4476 [==============================] - 176s 39ms/step - loss: 1.3437 - accuracy: 0.6549\n",
      "Epoch 32/50\n",
      "4476/4476 [==============================] - 176s 39ms/step - loss: 1.2981 - accuracy: 0.6653\n",
      "Epoch 33/50\n",
      "4476/4476 [==============================] - 176s 39ms/step - loss: 1.2575 - accuracy: 0.6731\n",
      "Epoch 34/50\n",
      "4476/4476 [==============================] - 176s 39ms/step - loss: 1.2459 - accuracy: 0.6732\n",
      "Epoch 35/50\n",
      "4476/4476 [==============================] - 176s 39ms/step - loss: 1.2394 - accuracy: 0.6741\n",
      "Epoch 36/50\n",
      "4476/4476 [==============================] - 175s 39ms/step - loss: 1.2729 - accuracy: 0.6654\n",
      "Epoch 37/50\n",
      "4476/4476 [==============================] - 177s 40ms/step - loss: 1.2528 - accuracy: 0.6690\n",
      "Epoch 38/50\n",
      "4476/4476 [==============================] - 179s 40ms/step - loss: 1.2359 - accuracy: 0.6726\n",
      "Epoch 39/50\n",
      "4476/4476 [==============================] - 178s 40ms/step - loss: 1.1916 - accuracy: 0.6844\n",
      "Epoch 40/50\n",
      "4476/4476 [==============================] - 178s 40ms/step - loss: 1.2087 - accuracy: 0.6799\n",
      "Epoch 41/50\n",
      "4476/4476 [==============================] - 178s 40ms/step - loss: 1.1749 - accuracy: 0.6873\n",
      "Epoch 42/50\n",
      "4476/4476 [==============================] - 177s 40ms/step - loss: 1.2289 - accuracy: 0.6725\n",
      "Epoch 43/50\n",
      "4476/4476 [==============================] - 175s 39ms/step - loss: 1.1443 - accuracy: 0.6924\n",
      "Epoch 44/50\n",
      "4476/4476 [==============================] - 176s 39ms/step - loss: 1.1036 - accuracy: 0.7026\n",
      "Epoch 45/50\n",
      "4476/4476 [==============================] - 175s 39ms/step - loss: 1.0671 - accuracy: 0.7109\n",
      "Epoch 46/50\n",
      "4476/4476 [==============================] - 175s 39ms/step - loss: 1.0423 - accuracy: 0.7170\n",
      "Epoch 47/50\n",
      "4476/4476 [==============================] - 175s 39ms/step - loss: 1.0141 - accuracy: 0.7222\n",
      "Epoch 48/50\n",
      "4476/4476 [==============================] - 178s 40ms/step - loss: 1.0080 - accuracy: 0.7231\n",
      "Epoch 49/50\n",
      "4476/4476 [==============================] - 175s 39ms/step - loss: 1.0031 - accuracy: 0.7243\n",
      "Epoch 50/50\n",
      "4476/4476 [==============================] - 175s 39ms/step - loss: 0.9847 - accuracy: 0.7285\n"
     ]
    },
    {
     "data": {
      "text/plain": [
       "<tensorflow.python.keras.callbacks.History at 0x7f0067e36128>"
      ]
     },
     "execution_count": 18,
     "metadata": {
      "tags": []
     },
     "output_type": "execute_result"
    }
   ],
   "source": [
    "model.fit(generate_arrays(X_train, y_train, BATCH_SIZE),\n",
    "                    steps_per_epoch = (len(X) // BATCH_SIZE) + 1,\n",
    "                    epochs = EPOCHS,\n",
    "                    callbacks = callbacks_list)"
   ]
  },
  {
   "cell_type": "markdown",
   "metadata": {
    "colab_type": "text",
    "id": "CEfCZCQzQQFo"
   },
   "source": [
    "# Evaluation"
   ]
  },
  {
   "cell_type": "code",
   "execution_count": 31,
   "metadata": {
    "colab": {
     "base_uri": "https://localhost:8080/",
     "height": 297
    },
    "colab_type": "code",
    "id": "__8CsMnAPMci",
    "outputId": "4b383698-517b-44c8-c4a4-5a1a7a9393dd"
   },
   "outputs": [
    {
     "data": {
      "image/png": "[encoded data removed]",
      "text/plain": [
       "<Figure size 432x288 with 1 Axes>"
      ]
     },
     "metadata": {
      "tags": []
     },
     "output_type": "display_data"
    }
   ],
   "source": [
    "# Plot loss curves\n",
    "fig = plt.figure()\n",
    "plt.plot(model.history.history['loss'])\n",
    "plt.title('model loss')\n",
    "plt.ylabel('loss')\n",
    "plt.xlabel('epoch')\n",
    "plt.tight_layout()"
   ]
  },
  {
   "cell_type": "markdown",
   "metadata": {
    "colab_type": "text",
    "id": "ehJfl7-9rfU3"
   },
   "source": [
    "# Save data to files"
   ]
  },
  {
   "cell_type": "code",
   "execution_count": 0,
   "metadata": {
    "colab": {},
    "colab_type": "code",
    "id": "tP3hHrogrjMq"
   },
   "outputs": [],
   "source": [
    "from pickle import dump\n",
    "# save the tokenizer to file\n",
    "dump(tokenizer, open('tokenizer.pkl', 'wb'))"
   ]
  },
  {
   "cell_type": "code",
   "execution_count": 0,
   "metadata": {
    "colab": {},
    "colab_type": "code",
    "id": "wqI19xXkMAAu"
   },
   "outputs": [],
   "source": [
    "# save sequences to file\n",
    "data = '\\n'.join(sequences_words)\n",
    "with open(\"sequences_words.txt\", 'w') as file:\n",
    "  file.write(data)"
   ]
  },
  {
   "cell_type": "code",
   "execution_count": 0,
   "metadata": {
    "colab": {},
    "colab_type": "code",
    "id": "TbRpu-AKOuYC"
   },
   "outputs": [],
   "source": [
    "# save the model to file\n",
    "model.save('model.h5')"
   ]
  }
 ],
 "metadata": {
  "accelerator": "GPU",
  "colab": {
   "collapsed_sections": [],
   "machine_shape": "hm",
   "name": "text_generation_word_train.ipynb",
   "provenance": []
  },
  "kernelspec": {
   "display_name": "Python 3",
   "language": "python",
   "name": "python3"
  },
  "language_info": {
   "codemirror_mode": {
    "name": "ipython",
    "version": 3
   },
   "file_extension": ".py",
   "mimetype": "text/x-python",
   "name": "python",
   "nbconvert_exporter": "python",
   "pygments_lexer": "ipython3",
   "version": "3.7.3"
  }
 },
 "nbformat": 4,
 "nbformat_minor": 1
}
